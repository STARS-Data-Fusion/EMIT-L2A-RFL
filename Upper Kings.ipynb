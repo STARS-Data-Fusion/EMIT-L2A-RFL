{
 "cells": [
  {
   "cell_type": "code",
   "execution_count": 5,
   "id": "dce36470",
   "metadata": {},
   "outputs": [],
   "source": [
    "import geopandas as gpd\n",
    "import rasters as rt"
   ]
  },
  {
   "cell_type": "code",
   "execution_count": 2,
   "id": "7951d3ab",
   "metadata": {},
   "outputs": [
    {
     "data": {
      "text/html": [
       "<div>\n",
       "<style scoped>\n",
       "    .dataframe tbody tr th:only-of-type {\n",
       "        vertical-align: middle;\n",
       "    }\n",
       "\n",
       "    .dataframe tbody tr th {\n",
       "        vertical-align: top;\n",
       "    }\n",
       "\n",
       "    .dataframe thead th {\n",
       "        text-align: right;\n",
       "    }\n",
       "</style>\n",
       "<table border=\"1\" class=\"dataframe\">\n",
       "  <thead>\n",
       "    <tr style=\"text-align: right;\">\n",
       "      <th></th>\n",
       "      <th>Name</th>\n",
       "      <th>Description</th>\n",
       "      <th>geometry</th>\n",
       "    </tr>\n",
       "  </thead>\n",
       "  <tbody>\n",
       "    <tr>\n",
       "      <th>0</th>\n",
       "      <td>0</td>\n",
       "      <td>&lt;html xmlns:fo=\"http://www.w3.org/1999/XSL/For...</td>\n",
       "      <td>MULTIPOLYGON Z (((-118.75179 36.85601 0, -118....</td>\n",
       "    </tr>\n",
       "  </tbody>\n",
       "</table>\n",
       "</div>"
      ],
      "text/plain": [
       "  Name                                        Description  \\\n",
       "0    0  <html xmlns:fo=\"http://www.w3.org/1999/XSL/For...   \n",
       "\n",
       "                                            geometry  \n",
       "0  MULTIPOLYGON Z (((-118.75179 36.85601 0, -118....  "
      ]
     },
     "execution_count": 2,
     "metadata": {},
     "output_type": "execute_result"
    }
   ],
   "source": [
    "gdf = gpd.read_file(\"upper_kings.kml\")\n",
    "gdf"
   ]
  },
  {
   "cell_type": "code",
   "execution_count": 3,
   "id": "7f1aba85",
   "metadata": {},
   "outputs": [
    {
     "data": {
      "image/svg+xml": [
       "<svg xmlns=\"http://www.w3.org/2000/svg\" xmlns:xlink=\"http://www.w3.org/1999/xlink\" width=\"100.0\" height=\"100.0\" viewBox=\"-118.77555938868137 36.56952187249183 0.4661740671847525 0.5922276095799361\" preserveAspectRatio=\"xMinYMin meet\"><g transform=\"matrix(1,0,0,-1,0,73.7312713545636)\"><g><path fill-rule=\"evenodd\" fill=\"#66cc99\" stroke=\"#555555\" stroke-width=\"0.011844552191598723\" opacity=\"0.6\" d=\"M -118.75179336538,36.8560054055524 L -118.75179336538,36.8560054055524 L -118.743018955865,36.8464809995079 L -118.718385467173,36.841233321285 L -118.698729084739,36.8413356201814 L -118.669965058155,36.8372454743763 L -118.65096000978,36.8222238656854 L -118.638768182765,36.804121860702 L -118.612291487905,36.7981922604537 L -118.612906142798,36.7569370160943 L -118.605574450662,36.7297964802785 L -118.563889322764,36.7013719685922 L -118.542341087436,36.677865300318 L -118.532451820717,36.6611097808275 L -118.535847796164,36.6293005899985 L -118.538842395183,36.6049780503338 L -118.536558554096,36.5935506131577 L -118.522756550821,36.5914562284022 L -118.502327797986,36.6044074305123 L -118.48768747109,36.6151827379332 L -118.477562117532,36.6441629461739 L -118.46873616642,36.6624084780356 L -118.438078181179,36.6767815822392 L -118.405608789618,36.6875806486806 L -118.354841959651,36.6876914660071 L -118.33529282043,36.7002257159523 L -118.331319677407,36.7184427859625 L -118.338943790322,36.7312835345775 L -118.355924714641,36.7480377685847 L -118.365759990699,36.7594452570892 L -118.370258358109,36.7730047406643 L -118.364541221074,36.7962365140716 L -118.371730041928,36.814073621358 L -118.376678607793,36.826221333032 L -118.349502632642,36.8423704758143 L -118.359339469176,36.8677768295363 L -118.348291951553,36.8819824237906 L -118.360932455294,36.9044360974935 L -118.372071698168,36.9203796268144 L -118.378825777923,36.9475681490007 L -118.39290292684,36.9540379724336 L -118.394450119182,36.9723627712262 L -118.410787235715,36.9871234625091 L -118.406388263987,36.9971898728096 L -118.413832759893,37.0089994525078 L -118.41165769123,37.0208332252118 L -118.425762086294,37.0290832971361 L -118.428857173621,37.0592596042781 L -118.471181533243,37.0745518549307 L -118.480871070126,37.0845984544677 L -118.497963746718,37.0910537030511 L -118.524038956875,37.1087572159892 L -118.555881968322,37.1167349806868 L -118.57055012219,37.1174158302619 L -118.598170030074,37.1356049856822 L -118.630270196234,37.1347531428026 L -118.646816058709,37.1398151261614 L -118.642106828584,37.1229987220022 L -118.629207485116,37.1135415721163 L -118.603518478564,37.1121793465625 L -118.594176662526,37.0836880550974 L -118.582079142131,37.0537363961676 L -118.575573090131,37.0376709581218 L -118.580911284085,37.0120648604171 L -118.593496631153,36.976924255878 L -118.605165733769,36.9425247288916 L -118.675466290747,36.9268796358257 L -118.727593041996,36.9259073994129 L -118.753625032771,36.9091305106524 L -118.75179336538,36.8560054055524 z\" /></g></g></svg>"
      ],
      "text/plain": [
       "<MULTIPOLYGON Z (((-118.752 36.856 0, -118.752 36.856 0, -118.743 36.846 0, ...>"
      ]
     },
     "execution_count": 3,
     "metadata": {},
     "output_type": "execute_result"
    }
   ],
   "source": [
    "gdf.geometry[0]"
   ]
  },
  {
   "cell_type": "code",
   "execution_count": 4,
   "id": "15b7c551",
   "metadata": {},
   "outputs": [
    {
     "data": {
      "text/plain": [
       "array([-118.75362503,   36.59145623, -118.33131968,   37.13981513])"
      ]
     },
     "execution_count": 4,
     "metadata": {},
     "output_type": "execute_result"
    }
   ],
   "source": [
    "gdf.total_bounds"
   ]
  },
  {
   "cell_type": "code",
   "execution_count": 13,
   "id": "e1dc2406",
   "metadata": {},
   "outputs": [
    {
     "data": {
      "text/plain": [
       "BBox(xmin=-118.753625032771, ymin=36.5914562284022, xmax=-118.331319677407, ymax=37.1398151261614, crs=\"EPSG:4326\")"
      ]
     },
     "execution_count": 13,
     "metadata": {},
     "output_type": "execute_result"
    }
   ],
   "source": [
    "bbox = rt.BBox(*gdf.total_bounds)\n",
    "bbox"
   ]
  },
  {
   "cell_type": "code",
   "execution_count": null,
   "id": "3e5f8574",
   "metadata": {},
   "outputs": [
    {
     "name": "stdout",
     "output_type": "stream",
     "text": [
      "\u001b[0;31mSignature:\u001b[0m\n",
      "\u001b[0mrt\u001b[0m\u001b[0;34m.\u001b[0m\u001b[0mRasterGrid\u001b[0m\u001b[0;34m.\u001b[0m\u001b[0mfrom_bbox\u001b[0m\u001b[0;34m(\u001b[0m\u001b[0;34m\u001b[0m\n",
      "\u001b[0;34m\u001b[0m    \u001b[0mbbox\u001b[0m\u001b[0;34m:\u001b[0m \u001b[0;34m'Union[BBox, Tuple[float]]'\u001b[0m\u001b[0;34m,\u001b[0m\u001b[0;34m\u001b[0m\n",
      "\u001b[0;34m\u001b[0m    \u001b[0mshape\u001b[0m\u001b[0;34m:\u001b[0m \u001b[0;34m'Tuple[int, int]'\u001b[0m \u001b[0;34m=\u001b[0m \u001b[0;32mNone\u001b[0m\u001b[0;34m,\u001b[0m\u001b[0;34m\u001b[0m\n",
      "\u001b[0;34m\u001b[0m    \u001b[0mcell_size\u001b[0m\u001b[0;34m:\u001b[0m \u001b[0;34m'float'\u001b[0m \u001b[0;34m=\u001b[0m \u001b[0;32mNone\u001b[0m\u001b[0;34m,\u001b[0m\u001b[0;34m\u001b[0m\n",
      "\u001b[0;34m\u001b[0m    \u001b[0mcell_width\u001b[0m\u001b[0;34m:\u001b[0m \u001b[0;34m'float'\u001b[0m \u001b[0;34m=\u001b[0m \u001b[0;32mNone\u001b[0m\u001b[0;34m,\u001b[0m\u001b[0;34m\u001b[0m\n",
      "\u001b[0;34m\u001b[0m    \u001b[0mcell_height\u001b[0m\u001b[0;34m:\u001b[0m \u001b[0;34m'float'\u001b[0m \u001b[0;34m=\u001b[0m \u001b[0;32mNone\u001b[0m\u001b[0;34m,\u001b[0m\u001b[0;34m\u001b[0m\n",
      "\u001b[0;34m\u001b[0m    \u001b[0mcrs\u001b[0m\u001b[0;34m:\u001b[0m \u001b[0;34m'Union[CRS, str]'\u001b[0m \u001b[0;34m=\u001b[0m \u001b[0;32mNone\u001b[0m\u001b[0;34m,\u001b[0m\u001b[0;34m\u001b[0m\n",
      "\u001b[0;34m\u001b[0m\u001b[0;34m)\u001b[0m\u001b[0;34m\u001b[0m\u001b[0;34m\u001b[0m\u001b[0m\n",
      "\u001b[0;31mDocstring:\u001b[0m <no docstring>\n",
      "\u001b[0;31mFile:\u001b[0m      /opt/homebrew/Caskroom/miniforge/base/envs/EMITL2ARFL/lib/python3.10/site-packages/rasters/raster_grid.py\n",
      "\u001b[0;31mType:\u001b[0m      method"
     ]
    }
   ],
   "source": [
    "rt.RasterGrid.from_bbox(gdf.total_bounds, cell_size=60)"
   ]
  },
  {
   "cell_type": "code",
   "execution_count": null,
   "id": "e74ebf22",
   "metadata": {},
   "outputs": [],
   "source": []
  }
 ],
 "metadata": {
  "kernelspec": {
   "display_name": "EMITL2ARFL",
   "language": "python",
   "name": "python3"
  },
  "language_info": {
   "codemirror_mode": {
    "name": "ipython",
    "version": 3
   },
   "file_extension": ".py",
   "mimetype": "text/x-python",
   "name": "python",
   "nbconvert_exporter": "python",
   "pygments_lexer": "ipython3",
   "version": "3.10.17"
  }
 },
 "nbformat": 4,
 "nbformat_minor": 5
}
