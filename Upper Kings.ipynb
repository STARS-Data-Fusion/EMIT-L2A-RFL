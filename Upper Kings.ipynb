{
 "cells": [
  {
   "cell_type": "code",
   "execution_count": 1,
   "id": "dce36470",
   "metadata": {},
   "outputs": [],
   "source": [
    "import earthaccess\n",
    "\n",
    "import geopandas as gpd\n",
    "import rasters as rt\n",
    "\n",
    "from EMITL2ARFL import *"
   ]
  },
  {
   "cell_type": "markdown",
   "id": "063c94c4",
   "metadata": {},
   "source": [
    "date range"
   ]
  },
  {
   "cell_type": "code",
   "execution_count": 2,
   "id": "45ee2d11",
   "metadata": {},
   "outputs": [],
   "source": [
    "start_date = \"2024-01-01\"\n",
    "end_date = \"2024-12-31\""
   ]
  },
  {
   "cell_type": "markdown",
   "id": "cfcdb0bc",
   "metadata": {},
   "source": [
    "download directory"
   ]
  },
  {
   "cell_type": "code",
   "execution_count": 3,
   "id": "816ba3bd",
   "metadata": {},
   "outputs": [],
   "source": [
    "download_directory = \"~/data/EMIT_download\""
   ]
  },
  {
   "cell_type": "markdown",
   "id": "50b3bd93",
   "metadata": {},
   "source": [
    "Upper Kings area of interest"
   ]
  },
  {
   "cell_type": "code",
   "execution_count": 4,
   "id": "7951d3ab",
   "metadata": {},
   "outputs": [
    {
     "data": {
      "text/html": [
       "<div>\n",
       "<style scoped>\n",
       "    .dataframe tbody tr th:only-of-type {\n",
       "        vertical-align: middle;\n",
       "    }\n",
       "\n",
       "    .dataframe tbody tr th {\n",
       "        vertical-align: top;\n",
       "    }\n",
       "\n",
       "    .dataframe thead th {\n",
       "        text-align: right;\n",
       "    }\n",
       "</style>\n",
       "<table border=\"1\" class=\"dataframe\">\n",
       "  <thead>\n",
       "    <tr style=\"text-align: right;\">\n",
       "      <th></th>\n",
       "      <th>Name</th>\n",
       "      <th>Description</th>\n",
       "      <th>geometry</th>\n",
       "    </tr>\n",
       "  </thead>\n",
       "  <tbody>\n",
       "    <tr>\n",
       "      <th>0</th>\n",
       "      <td>0</td>\n",
       "      <td>&lt;html xmlns:fo=\"http://www.w3.org/1999/XSL/For...</td>\n",
       "      <td>MULTIPOLYGON Z (((-118.75179 36.85601 0, -118....</td>\n",
       "    </tr>\n",
       "  </tbody>\n",
       "</table>\n",
       "</div>"
      ],
      "text/plain": [
       "  Name                                        Description  \\\n",
       "0    0  <html xmlns:fo=\"http://www.w3.org/1999/XSL/For...   \n",
       "\n",
       "                                            geometry  \n",
       "0  MULTIPOLYGON Z (((-118.75179 36.85601 0, -118....  "
      ]
     },
     "execution_count": 4,
     "metadata": {},
     "output_type": "execute_result"
    }
   ],
   "source": [
    "gdf = gpd.read_file(\"upper_kings.kml\")\n",
    "gdf"
   ]
  },
  {
   "cell_type": "code",
   "execution_count": 5,
   "id": "7f1aba85",
   "metadata": {},
   "outputs": [
    {
     "data": {
      "image/svg+xml": [
       "<svg xmlns=\"http://www.w3.org/2000/svg\" xmlns:xlink=\"http://www.w3.org/1999/xlink\" width=\"100.0\" height=\"100.0\" viewBox=\"-118.77555938868137 36.56952187249183 0.4661740671847525 0.5922276095799361\" preserveAspectRatio=\"xMinYMin meet\"><g transform=\"matrix(1,0,0,-1,0,73.7312713545636)\"><g><path fill-rule=\"evenodd\" fill=\"#66cc99\" stroke=\"#555555\" stroke-width=\"0.011844552191598723\" opacity=\"0.6\" d=\"M -118.75179336538,36.8560054055524 L -118.75179336538,36.8560054055524 L -118.743018955865,36.8464809995079 L -118.718385467173,36.841233321285 L -118.698729084739,36.8413356201814 L -118.669965058155,36.8372454743763 L -118.65096000978,36.8222238656854 L -118.638768182765,36.804121860702 L -118.612291487905,36.7981922604537 L -118.612906142798,36.7569370160943 L -118.605574450662,36.7297964802785 L -118.563889322764,36.7013719685922 L -118.542341087436,36.677865300318 L -118.532451820717,36.6611097808275 L -118.535847796164,36.6293005899985 L -118.538842395183,36.6049780503338 L -118.536558554096,36.5935506131577 L -118.522756550821,36.5914562284022 L -118.502327797986,36.6044074305123 L -118.48768747109,36.6151827379332 L -118.477562117532,36.6441629461739 L -118.46873616642,36.6624084780356 L -118.438078181179,36.6767815822392 L -118.405608789618,36.6875806486806 L -118.354841959651,36.6876914660071 L -118.33529282043,36.7002257159523 L -118.331319677407,36.7184427859625 L -118.338943790322,36.7312835345775 L -118.355924714641,36.7480377685847 L -118.365759990699,36.7594452570892 L -118.370258358109,36.7730047406643 L -118.364541221074,36.7962365140716 L -118.371730041928,36.814073621358 L -118.376678607793,36.826221333032 L -118.349502632642,36.8423704758143 L -118.359339469176,36.8677768295363 L -118.348291951553,36.8819824237906 L -118.360932455294,36.9044360974935 L -118.372071698168,36.9203796268144 L -118.378825777923,36.9475681490007 L -118.39290292684,36.9540379724336 L -118.394450119182,36.9723627712262 L -118.410787235715,36.9871234625091 L -118.406388263987,36.9971898728096 L -118.413832759893,37.0089994525078 L -118.41165769123,37.0208332252118 L -118.425762086294,37.0290832971361 L -118.428857173621,37.0592596042781 L -118.471181533243,37.0745518549307 L -118.480871070126,37.0845984544677 L -118.497963746718,37.0910537030511 L -118.524038956875,37.1087572159892 L -118.555881968322,37.1167349806868 L -118.57055012219,37.1174158302619 L -118.598170030074,37.1356049856822 L -118.630270196234,37.1347531428026 L -118.646816058709,37.1398151261614 L -118.642106828584,37.1229987220022 L -118.629207485116,37.1135415721163 L -118.603518478564,37.1121793465625 L -118.594176662526,37.0836880550974 L -118.582079142131,37.0537363961676 L -118.575573090131,37.0376709581218 L -118.580911284085,37.0120648604171 L -118.593496631153,36.976924255878 L -118.605165733769,36.9425247288916 L -118.675466290747,36.9268796358257 L -118.727593041996,36.9259073994129 L -118.753625032771,36.9091305106524 L -118.75179336538,36.8560054055524 z\" /></g></g></svg>"
      ],
      "text/plain": [
       "<MULTIPOLYGON Z (((-118.752 36.856 0, -118.752 36.856 0, -118.743 36.846 0, ...>"
      ]
     },
     "execution_count": 5,
     "metadata": {},
     "output_type": "execute_result"
    }
   ],
   "source": [
    "gdf.geometry[0]"
   ]
  },
  {
   "cell_type": "code",
   "execution_count": 6,
   "id": "27b67657",
   "metadata": {},
   "outputs": [
    {
     "name": "stderr",
     "output_type": "stream",
     "text": [
      "/var/folders/bv/410kt7f93x78j9dww00h1pz80000gn/T/ipykernel_73471/4116591760.py:1: DeprecationWarning: The 'unary_union' attribute is deprecated, use the 'union_all()' method instead.\n",
      "  bbox_UTM = rt.Polygon(gdf.unary_union).UTM.bbox\n"
     ]
    },
    {
     "data": {
      "text/plain": [
       "BBox(xmin=343776.99999338, ymin=4050631.999999944, xmax=381105.99999904167, ymax=4111651.9999999665, crs=\"EPSG:32611\")"
      ]
     },
     "execution_count": 6,
     "metadata": {},
     "output_type": "execute_result"
    }
   ],
   "source": [
    "bbox_UTM = rt.Polygon(gdf.unary_union).UTM.bbox\n",
    "bbox_UTM"
   ]
  },
  {
   "cell_type": "code",
   "execution_count": 7,
   "id": "3e5f8574",
   "metadata": {},
   "outputs": [
    {
     "data": {
      "text/plain": [
       "{\n",
       "  \"dimensions\": {\n",
       "    \"rows\": 1017,\n",
       "    \"cols\": 622\n",
       "  },\n",
       "  \"bbox\": {\n",
       "    \"xmin\": 343776.99999338,\n",
       "    \"ymin\": 4050631.9999999665,\n",
       "    \"xmax\": 381096.99999338,\n",
       "    \"ymax\": 4111651.9999999665\n",
       "  },\n",
       "  \"crs\": \"EPSG:32611\",\n",
       "  \"resolution\": {\n",
       "    \"cell_width\": 60.0,\n",
       "    \"cell_height\": -60.0\n",
       "  }\n",
       "}"
      ]
     },
     "execution_count": 7,
     "metadata": {},
     "output_type": "execute_result"
    }
   ],
   "source": [
    "grid = rt.RasterGrid.from_bbox(bbox_UTM, cell_size=60, crs=bbox_UTM.crs)\n",
    "grid"
   ]
  },
  {
   "cell_type": "markdown",
   "id": "1512404d",
   "metadata": {},
   "source": [
    "Log into `earthaccess` using `netrc` credentials"
   ]
  },
  {
   "cell_type": "code",
   "execution_count": 8,
   "id": "73a628a3",
   "metadata": {},
   "outputs": [
    {
     "data": {
      "text/plain": [
       "<earthaccess.auth.Auth at 0x105a3b1c0>"
      ]
     },
     "execution_count": 8,
     "metadata": {},
     "output_type": "execute_result"
    }
   ],
   "source": [
    "earthaccess.login(strategy=\"netrc\", persist=True)"
   ]
  },
  {
   "cell_type": "code",
   "execution_count": 9,
   "id": "e74ebf22",
   "metadata": {},
   "outputs": [
    {
     "ename": "RuntimeError",
     "evalue": "{\"errors\":[\"An Internal Error has occurred.\"]}",
     "output_type": "error",
     "traceback": [
      "\u001b[0;31m---------------------------------------------------------------------------\u001b[0m",
      "\u001b[0;31mHTTPError\u001b[0m                                 Traceback (most recent call last)",
      "File \u001b[0;32m/opt/homebrew/Caskroom/miniforge/base/envs/EMITL2ARFL/lib/python3.10/site-packages/earthaccess/utils/_search.py:42\u001b[0m, in \u001b[0;36mget_results\u001b[0;34m(session, query, limit)\u001b[0m\n\u001b[1;32m     41\u001b[0m \u001b[38;5;28;01mtry\u001b[39;00m:\n\u001b[0;32m---> 42\u001b[0m     \u001b[43mresponse\u001b[49m\u001b[38;5;241;43m.\u001b[39;49m\u001b[43mraise_for_status\u001b[49m\u001b[43m(\u001b[49m\u001b[43m)\u001b[49m\n\u001b[1;32m     43\u001b[0m \u001b[38;5;28;01mexcept\u001b[39;00m requests\u001b[38;5;241m.\u001b[39mexceptions\u001b[38;5;241m.\u001b[39mHTTPError \u001b[38;5;28;01mas\u001b[39;00m ex:\n",
      "File \u001b[0;32m/opt/homebrew/Caskroom/miniforge/base/envs/EMITL2ARFL/lib/python3.10/site-packages/requests/models.py:1024\u001b[0m, in \u001b[0;36mResponse.raise_for_status\u001b[0;34m(self)\u001b[0m\n\u001b[1;32m   1023\u001b[0m \u001b[38;5;28;01mif\u001b[39;00m http_error_msg:\n\u001b[0;32m-> 1024\u001b[0m     \u001b[38;5;28;01mraise\u001b[39;00m HTTPError(http_error_msg, response\u001b[38;5;241m=\u001b[39m\u001b[38;5;28mself\u001b[39m)\n",
      "\u001b[0;31mHTTPError\u001b[0m: 500 Server Error: Server Error for url: https://cmr.earthdata.nasa.gov/search/granules.umm_json?concept_id%5B%5D=C2408750690-LPCLOUD&temporal%5B%5D=2024-01-01T00:00:00Z,2024-12-31T23:59:59Z&polygon=-118.7588998358244,37.13820450254242,-118.74633926926616,36.58838935212542,-118.32927514206513,36.59377153031471,-118.33883848805401,37.14369470137863,-118.7588998358244,37.13820450254242&page_size=2000",
      "\nThe above exception was the direct cause of the following exception:\n",
      "\u001b[0;31mRuntimeError\u001b[0m                              Traceback (most recent call last)",
      "Cell \u001b[0;32mIn[9], line 1\u001b[0m\n\u001b[0;32m----> 1\u001b[0m search_results \u001b[38;5;241m=\u001b[39m \u001b[43msearch_EMIT_L2A_RFL_granules\u001b[49m\u001b[43m(\u001b[49m\n\u001b[1;32m      2\u001b[0m \u001b[43m    \u001b[49m\u001b[43mstart_UTC\u001b[49m\u001b[38;5;241;43m=\u001b[39;49m\u001b[43mstart_date\u001b[49m\u001b[43m,\u001b[49m\n\u001b[1;32m      3\u001b[0m \u001b[43m    \u001b[49m\u001b[43mend_UTC\u001b[49m\u001b[38;5;241;43m=\u001b[39;49m\u001b[43mend_date\u001b[49m\u001b[43m,\u001b[49m\n\u001b[1;32m      4\u001b[0m \u001b[43m    \u001b[49m\u001b[43mgeometry\u001b[49m\u001b[38;5;241;43m=\u001b[39;49m\u001b[43mgrid\u001b[49m\n\u001b[1;32m      5\u001b[0m \u001b[43m)\u001b[49m\n\u001b[1;32m      7\u001b[0m search_results\n",
      "File \u001b[0;32m~/Projects/EMIT-L2A-RFL/EMITL2ARFL/search_EMIT_L2A_RFL_granules.py:35\u001b[0m, in \u001b[0;36msearch_EMIT_L2A_RFL_granules\u001b[0;34m(start_UTC, end_UTC, geometry, orbit, scene)\u001b[0m\n\u001b[1;32m     32\u001b[0m \u001b[38;5;28;01mif\u001b[39;00m orbit \u001b[38;5;129;01mis\u001b[39;00m \u001b[38;5;129;01mnot\u001b[39;00m \u001b[38;5;28;01mNone\u001b[39;00m \u001b[38;5;129;01mand\u001b[39;00m scene \u001b[38;5;129;01mis\u001b[39;00m \u001b[38;5;129;01mnot\u001b[39;00m \u001b[38;5;28;01mNone\u001b[39;00m:\n\u001b[1;32m     33\u001b[0m     readable_granule_name\u001b[38;5;241m=\u001b[39m\u001b[38;5;124mf\u001b[39m\u001b[38;5;124m\"\u001b[39m\u001b[38;5;124m*\u001b[39m\u001b[38;5;132;01m{\u001b[39;00morbit\u001b[38;5;132;01m}\u001b[39;00m\u001b[38;5;124m_\u001b[39m\u001b[38;5;132;01m{\u001b[39;00mscene\u001b[38;5;132;01m:\u001b[39;00m\u001b[38;5;124m03d\u001b[39m\u001b[38;5;132;01m}\u001b[39;00m\u001b[38;5;124m*\u001b[39m\u001b[38;5;124m\"\u001b[39m\n\u001b[0;32m---> 35\u001b[0m granules \u001b[38;5;241m=\u001b[39m \u001b[43msearch_earthaccess_granules\u001b[49m\u001b[43m(\u001b[49m\n\u001b[1;32m     36\u001b[0m \u001b[43m    \u001b[49m\u001b[43mconcept_ID\u001b[49m\u001b[38;5;241;43m=\u001b[39;49m\u001b[43mEMIT_L2A_REFLECTANCE_CONCEPT_ID\u001b[49m\u001b[43m,\u001b[49m\n\u001b[1;32m     37\u001b[0m \u001b[43m    \u001b[49m\u001b[43mstart_UTC\u001b[49m\u001b[38;5;241;43m=\u001b[39;49m\u001b[43mstart_UTC\u001b[49m\u001b[43m,\u001b[49m\n\u001b[1;32m     38\u001b[0m \u001b[43m    \u001b[49m\u001b[43mend_UTC\u001b[49m\u001b[38;5;241;43m=\u001b[39;49m\u001b[43mend_UTC\u001b[49m\u001b[43m,\u001b[49m\n\u001b[1;32m     39\u001b[0m \u001b[43m    \u001b[49m\u001b[43mgeometry\u001b[49m\u001b[38;5;241;43m=\u001b[39;49m\u001b[43mgeometry\u001b[49m\u001b[43m,\u001b[49m\n\u001b[1;32m     40\u001b[0m \u001b[43m    \u001b[49m\u001b[43mreadable_granule_name\u001b[49m\u001b[38;5;241;43m=\u001b[39;49m\u001b[43mreadable_granule_name\u001b[49m\n\u001b[1;32m     41\u001b[0m \u001b[43m\u001b[49m\u001b[43m)\u001b[49m\n\u001b[1;32m     43\u001b[0m \u001b[38;5;28;01mreturn\u001b[39;00m granules\n",
      "File \u001b[0;32m~/Projects/EMIT-L2A-RFL/EMITL2ARFL/search_earthaccess_granules.py:37\u001b[0m, in \u001b[0;36msearch_earthaccess_granules\u001b[0;34m(concept_ID, start_UTC, end_UTC, geometry, readable_granule_name)\u001b[0m\n\u001b[1;32m     16\u001b[0m \u001b[38;5;250m\u001b[39m\u001b[38;5;124;03m\"\"\"\u001b[39;00m\n\u001b[1;32m     17\u001b[0m \u001b[38;5;124;03mSearch for Earth data granules using the earthaccess library.\u001b[39;00m\n\u001b[1;32m     18\u001b[0m \n\u001b[0;32m   (...)\u001b[0m\n\u001b[1;32m     27\u001b[0m \u001b[38;5;124;03mList[earthaccess.search.DataGranule]: A list of data granules matching the search criteria.\u001b[39;00m\n\u001b[1;32m     28\u001b[0m \u001b[38;5;124;03m\"\"\"\u001b[39;00m\n\u001b[1;32m     29\u001b[0m query \u001b[38;5;241m=\u001b[39m generate_earthaccess_query(\n\u001b[1;32m     30\u001b[0m     concept_ID\u001b[38;5;241m=\u001b[39mconcept_ID,\n\u001b[1;32m     31\u001b[0m     start_UTC\u001b[38;5;241m=\u001b[39mstart_UTC,\n\u001b[0;32m   (...)\u001b[0m\n\u001b[1;32m     34\u001b[0m     readable_granule_name\u001b[38;5;241m=\u001b[39mreadable_granule_name\n\u001b[1;32m     35\u001b[0m )\n\u001b[0;32m---> 37\u001b[0m granules \u001b[38;5;241m=\u001b[39m \u001b[43mquery\u001b[49m\u001b[38;5;241;43m.\u001b[39;49m\u001b[43mget\u001b[49m\u001b[43m(\u001b[49m\u001b[43m)\u001b[49m\n\u001b[1;32m     39\u001b[0m \u001b[38;5;28;01mreturn\u001b[39;00m granules\n",
      "File \u001b[0;32m/opt/homebrew/Caskroom/miniforge/base/envs/EMITL2ARFL/lib/python3.10/site-packages/earthaccess/search.py:492\u001b[0m, in \u001b[0;36mDataGranules.get\u001b[0;34m(self, limit)\u001b[0m\n\u001b[1;32m    472\u001b[0m \u001b[38;5;129m@override\u001b[39m\n\u001b[1;32m    473\u001b[0m \u001b[38;5;28;01mdef\u001b[39;00m\u001b[38;5;250m \u001b[39m\u001b[38;5;21mget\u001b[39m(\u001b[38;5;28mself\u001b[39m, limit: \u001b[38;5;28mint\u001b[39m \u001b[38;5;241m=\u001b[39m \u001b[38;5;241m2000\u001b[39m) \u001b[38;5;241m-\u001b[39m\u001b[38;5;241m>\u001b[39m List[DataGranule]:\n\u001b[1;32m    474\u001b[0m \u001b[38;5;250m    \u001b[39m\u001b[38;5;124;03m\"\"\"Get all the collections (datasets) that match with our current parameters\u001b[39;00m\n\u001b[1;32m    475\u001b[0m \u001b[38;5;124;03m    up to some limit, even if spanning multiple pages.\u001b[39;00m\n\u001b[1;32m    476\u001b[0m \n\u001b[0;32m   (...)\u001b[0m\n\u001b[1;32m    490\u001b[0m \u001b[38;5;124;03m        RuntimeError: The CMR query failed.\u001b[39;00m\n\u001b[1;32m    491\u001b[0m \u001b[38;5;124;03m    \"\"\"\u001b[39;00m\n\u001b[0;32m--> 492\u001b[0m     response \u001b[38;5;241m=\u001b[39m \u001b[43mget_results\u001b[49m\u001b[43m(\u001b[49m\u001b[38;5;28;43mself\u001b[39;49m\u001b[38;5;241;43m.\u001b[39;49m\u001b[43msession\u001b[49m\u001b[43m,\u001b[49m\u001b[43m \u001b[49m\u001b[38;5;28;43mself\u001b[39;49m\u001b[43m,\u001b[49m\u001b[43m \u001b[49m\u001b[43mlimit\u001b[49m\u001b[43m)\u001b[49m\n\u001b[1;32m    493\u001b[0m     cloud \u001b[38;5;241m=\u001b[39m \u001b[38;5;28mlen\u001b[39m(response) \u001b[38;5;241m>\u001b[39m \u001b[38;5;241m0\u001b[39m \u001b[38;5;129;01mand\u001b[39;00m \u001b[38;5;28mself\u001b[39m\u001b[38;5;241m.\u001b[39m_is_cloud_hosted(response[\u001b[38;5;241m0\u001b[39m])\n\u001b[1;32m    495\u001b[0m     \u001b[38;5;28;01mreturn\u001b[39;00m [DataGranule(granule, cloud_hosted\u001b[38;5;241m=\u001b[39mcloud) \u001b[38;5;28;01mfor\u001b[39;00m granule \u001b[38;5;129;01min\u001b[39;00m response]\n",
      "File \u001b[0;32m/opt/homebrew/Caskroom/miniforge/base/envs/EMITL2ARFL/lib/python3.10/site-packages/earthaccess/utils/_search.py:44\u001b[0m, in \u001b[0;36mget_results\u001b[0;34m(session, query, limit)\u001b[0m\n\u001b[1;32m     42\u001b[0m     response\u001b[38;5;241m.\u001b[39mraise_for_status()\n\u001b[1;32m     43\u001b[0m \u001b[38;5;28;01mexcept\u001b[39;00m requests\u001b[38;5;241m.\u001b[39mexceptions\u001b[38;5;241m.\u001b[39mHTTPError \u001b[38;5;28;01mas\u001b[39;00m ex:\n\u001b[0;32m---> 44\u001b[0m     \u001b[38;5;28;01mraise\u001b[39;00m \u001b[38;5;167;01mRuntimeError\u001b[39;00m(ex\u001b[38;5;241m.\u001b[39mresponse\u001b[38;5;241m.\u001b[39mtext) \u001b[38;5;28;01mfrom\u001b[39;00m\u001b[38;5;250m \u001b[39m\u001b[38;5;21;01mex\u001b[39;00m\n\u001b[1;32m     46\u001b[0m latest \u001b[38;5;241m=\u001b[39m response\u001b[38;5;241m.\u001b[39mjson()[\u001b[38;5;124m\"\u001b[39m\u001b[38;5;124mitems\u001b[39m\u001b[38;5;124m\"\u001b[39m]\n\u001b[1;32m     48\u001b[0m results\u001b[38;5;241m.\u001b[39mextend(latest)\n",
      "\u001b[0;31mRuntimeError\u001b[0m: {\"errors\":[\"An Internal Error has occurred.\"]}"
     ]
    }
   ],
   "source": [
    "search_results = search_EMIT_L2A_RFL_granules(\n",
    "    start_UTC=start_date,\n",
    "    end_UTC=end_date,\n",
    "    geometry=grid\n",
    ")\n",
    "\n",
    "search_results"
   ]
  },
  {
   "cell_type": "code",
   "execution_count": null,
   "id": "1b481c06",
   "metadata": {},
   "outputs": [],
   "source": []
  }
 ],
 "metadata": {
  "kernelspec": {
   "display_name": "EMITL2ARFL",
   "language": "python",
   "name": "python3"
  },
  "language_info": {
   "codemirror_mode": {
    "name": "ipython",
    "version": 3
   },
   "file_extension": ".py",
   "mimetype": "text/x-python",
   "name": "python",
   "nbconvert_exporter": "python",
   "pygments_lexer": "ipython3",
   "version": "3.10.17"
  }
 },
 "nbformat": 4,
 "nbformat_minor": 5
}
